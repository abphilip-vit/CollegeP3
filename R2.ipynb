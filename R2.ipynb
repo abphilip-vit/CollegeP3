{
 "cells": [
  {
   "source": [
    "# **Soil Moisture Prediction**\n",
    "### ECE3502 - IoT Domain Analyst"
   ],
   "cell_type": "markdown",
   "metadata": {}
  },
  {
   "source": [
    "### Import Libraries"
   ],
   "cell_type": "markdown",
   "metadata": {}
  },
  {
   "source": [
    "import pandas as pd\n",
    "import numpy as np\n",
    "import seaborn as sns\n",
    "import matplotlib.pyplot as plt"
   ],
   "cell_type": "code",
   "metadata": {},
   "execution_count": 1,
   "outputs": []
  },
  {
   "cell_type": "code",
   "execution_count": 2,
   "metadata": {},
   "outputs": [],
   "source": [
    "from sklearn import preprocessing\n",
    "from sklearn import metrics\n",
    "from sklearn.metrics import accuracy_score, log_loss, confusion_matrix\n",
    "from sklearn.model_selection import train_test_split\n",
    "from sklearn.ensemble import RandomForestRegressor\n",
    "from sklearn.linear_model import LinearRegression  \n",
    "from sklearn.preprocessing import StandardScaler"
   ]
  },
  {
   "source": [
    "### Dataset Inspection"
   ],
   "cell_type": "markdown",
   "metadata": {}
  },
  {
   "cell_type": "code",
   "execution_count": 3,
   "metadata": {},
   "outputs": [],
   "source": [
    "d = pd.read_csv('Dataset.csv')"
   ]
  },
  {
   "cell_type": "code",
   "execution_count": 4,
   "metadata": {},
   "outputs": [
    {
     "output_type": "execute_result",
     "data": {
      "text/plain": [
       "   MoisturePercentage  Humidity  Heatcelcius\n",
       "0              0.6491     0.617         35.1\n",
       "1              0.6999     0.628         35.1\n",
       "2              0.6999     0.631         35.1\n",
       "3              0.7019     0.646         35.1\n",
       "4              0.7009     0.648         35.1"
      ],
      "text/html": "<div>\n<style scoped>\n    .dataframe tbody tr th:only-of-type {\n        vertical-align: middle;\n    }\n\n    .dataframe tbody tr th {\n        vertical-align: top;\n    }\n\n    .dataframe thead th {\n        text-align: right;\n    }\n</style>\n<table border=\"1\" class=\"dataframe\">\n  <thead>\n    <tr style=\"text-align: right;\">\n      <th></th>\n      <th>MoisturePercentage</th>\n      <th>Humidity</th>\n      <th>Heatcelcius</th>\n    </tr>\n  </thead>\n  <tbody>\n    <tr>\n      <th>0</th>\n      <td>0.6491</td>\n      <td>0.617</td>\n      <td>35.1</td>\n    </tr>\n    <tr>\n      <th>1</th>\n      <td>0.6999</td>\n      <td>0.628</td>\n      <td>35.1</td>\n    </tr>\n    <tr>\n      <th>2</th>\n      <td>0.6999</td>\n      <td>0.631</td>\n      <td>35.1</td>\n    </tr>\n    <tr>\n      <th>3</th>\n      <td>0.7019</td>\n      <td>0.646</td>\n      <td>35.1</td>\n    </tr>\n    <tr>\n      <th>4</th>\n      <td>0.7009</td>\n      <td>0.648</td>\n      <td>35.1</td>\n    </tr>\n  </tbody>\n</table>\n</div>"
     },
     "metadata": {},
     "execution_count": 4
    }
   ],
   "source": [
    "d.head()"
   ]
  },
  {
   "cell_type": "code",
   "execution_count": 5,
   "metadata": {},
   "outputs": [
    {
     "output_type": "execute_result",
     "data": {
      "text/plain": [
       "       MoisturePercentage  Humidity  Heatcelcius\n",
       "count           93.000000  93.00000    93.000000\n",
       "mean             0.560731   0.68272    34.973118\n",
       "std              0.099847   0.04892     0.187744\n",
       "min              0.450600   0.60100    34.600000\n",
       "25%              0.477000   0.64400    34.800000\n",
       "50%              0.530800   0.66200    35.000000\n",
       "75%              0.639300   0.72000    35.100000\n",
       "max              0.741900   0.79300    35.300000"
      ],
      "text/html": "<div>\n<style scoped>\n    .dataframe tbody tr th:only-of-type {\n        vertical-align: middle;\n    }\n\n    .dataframe tbody tr th {\n        vertical-align: top;\n    }\n\n    .dataframe thead th {\n        text-align: right;\n    }\n</style>\n<table border=\"1\" class=\"dataframe\">\n  <thead>\n    <tr style=\"text-align: right;\">\n      <th></th>\n      <th>MoisturePercentage</th>\n      <th>Humidity</th>\n      <th>Heatcelcius</th>\n    </tr>\n  </thead>\n  <tbody>\n    <tr>\n      <th>count</th>\n      <td>93.000000</td>\n      <td>93.00000</td>\n      <td>93.000000</td>\n    </tr>\n    <tr>\n      <th>mean</th>\n      <td>0.560731</td>\n      <td>0.68272</td>\n      <td>34.973118</td>\n    </tr>\n    <tr>\n      <th>std</th>\n      <td>0.099847</td>\n      <td>0.04892</td>\n      <td>0.187744</td>\n    </tr>\n    <tr>\n      <th>min</th>\n      <td>0.450600</td>\n      <td>0.60100</td>\n      <td>34.600000</td>\n    </tr>\n    <tr>\n      <th>25%</th>\n      <td>0.477000</td>\n      <td>0.64400</td>\n      <td>34.800000</td>\n    </tr>\n    <tr>\n      <th>50%</th>\n      <td>0.530800</td>\n      <td>0.66200</td>\n      <td>35.000000</td>\n    </tr>\n    <tr>\n      <th>75%</th>\n      <td>0.639300</td>\n      <td>0.72000</td>\n      <td>35.100000</td>\n    </tr>\n    <tr>\n      <th>max</th>\n      <td>0.741900</td>\n      <td>0.79300</td>\n      <td>35.300000</td>\n    </tr>\n  </tbody>\n</table>\n</div>"
     },
     "metadata": {},
     "execution_count": 5
    }
   ],
   "source": [
    "d.describe() "
   ]
  },
  {
   "cell_type": "code",
   "execution_count": 6,
   "metadata": {},
   "outputs": [
    {
     "output_type": "execute_result",
     "data": {
      "text/plain": [
       "(93, 3)"
      ]
     },
     "metadata": {},
     "execution_count": 6
    }
   ],
   "source": [
    "d.shape "
   ]
  },
  {
   "source": [
    "### Test-train Split"
   ],
   "cell_type": "markdown",
   "metadata": {}
  },
  {
   "cell_type": "code",
   "execution_count": 7,
   "metadata": {},
   "outputs": [],
   "source": [
    "x = d.iloc[:, 1:3].values\n",
    "y = d.iloc[:, 0].values"
   ]
  },
  {
   "cell_type": "code",
   "execution_count": 8,
   "metadata": {},
   "outputs": [],
   "source": [
    "xtrain, xtest, ytrain, ytest = train_test_split(x, y, test_size=0.1, random_state=1) "
   ]
  },
  {
   "cell_type": "code",
   "execution_count": 9,
   "metadata": {},
   "outputs": [],
   "source": [
    "s = StandardScaler()  \n",
    "xtrain = s.fit_transform(xtrain)  \n",
    "xtest = s.transform(xtest) "
   ]
  },
  {
   "cell_type": "markdown",
   "metadata": {},
   "source": [
    "### Random Forest Regression"
   ]
  },
  {
   "cell_type": "code",
   "execution_count": 15,
   "metadata": {},
   "outputs": [],
   "source": [
    "r1 = RandomForestRegressor(n_estimators=20, random_state=25) "
   ]
  },
  {
   "cell_type": "code",
   "execution_count": 16,
   "metadata": {},
   "outputs": [],
   "source": [
    "r1.fit(xtrain, ytrain)\n",
    "p1 = r1.predict(xtest)"
   ]
  },
  {
   "cell_type": "code",
   "execution_count": 17,
   "metadata": {},
   "outputs": [
    {
     "output_type": "stream",
     "name": "stdout",
     "text": [
      "Mean Absolute Error: 0.023497499999999887\nMean Squared Error: 0.0016237838074999937\nRoot Mean Squared Error: 0.040296200906537\n"
     ]
    }
   ],
   "source": [
    "print('Mean Absolute Error:', metrics.mean_absolute_error(ytest, p1))  \n",
    "print('Mean Squared Error:', metrics.mean_squared_error(ytest, p1))  \n",
    "print('Root Mean Squared Error:', np.sqrt(metrics.mean_squared_error(ytest, p1)))"
   ]
  },
  {
   "cell_type": "code",
   "execution_count": 18,
   "metadata": {},
   "outputs": [
    {
     "output_type": "execute_result",
     "data": {
      "text/plain": [
       "   Actual  Predicted\n",
       "0  0.7204   0.736460\n",
       "1  0.5513   0.545660\n",
       "2  0.4702   0.464965\n",
       "3  0.7361   0.728080\n",
       "4  0.4712   0.580320\n",
       "5  0.4741   0.481610\n",
       "6  0.5601   0.620480\n",
       "7  0.7390   0.729915\n",
       "8  0.7370   0.724225\n",
       "9  0.4751   0.476250"
      ],
      "text/html": "<div>\n<style scoped>\n    .dataframe tbody tr th:only-of-type {\n        vertical-align: middle;\n    }\n\n    .dataframe tbody tr th {\n        vertical-align: top;\n    }\n\n    .dataframe thead th {\n        text-align: right;\n    }\n</style>\n<table border=\"1\" class=\"dataframe\">\n  <thead>\n    <tr style=\"text-align: right;\">\n      <th></th>\n      <th>Actual</th>\n      <th>Predicted</th>\n    </tr>\n  </thead>\n  <tbody>\n    <tr>\n      <th>0</th>\n      <td>0.7204</td>\n      <td>0.736460</td>\n    </tr>\n    <tr>\n      <th>1</th>\n      <td>0.5513</td>\n      <td>0.545660</td>\n    </tr>\n    <tr>\n      <th>2</th>\n      <td>0.4702</td>\n      <td>0.464965</td>\n    </tr>\n    <tr>\n      <th>3</th>\n      <td>0.7361</td>\n      <td>0.728080</td>\n    </tr>\n    <tr>\n      <th>4</th>\n      <td>0.4712</td>\n      <td>0.580320</td>\n    </tr>\n    <tr>\n      <th>5</th>\n      <td>0.4741</td>\n      <td>0.481610</td>\n    </tr>\n    <tr>\n      <th>6</th>\n      <td>0.5601</td>\n      <td>0.620480</td>\n    </tr>\n    <tr>\n      <th>7</th>\n      <td>0.7390</td>\n      <td>0.729915</td>\n    </tr>\n    <tr>\n      <th>8</th>\n      <td>0.7370</td>\n      <td>0.724225</td>\n    </tr>\n    <tr>\n      <th>9</th>\n      <td>0.4751</td>\n      <td>0.476250</td>\n    </tr>\n  </tbody>\n</table>\n</div>"
     },
     "metadata": {},
     "execution_count": 18
    }
   ],
   "source": [
    "df = pd.DataFrame({'Actual': ytest, 'Predicted': p1})  \n",
    "df"
   ]
  },
  {
   "cell_type": "code",
   "execution_count": 19,
   "metadata": {},
   "outputs": [
    {
     "output_type": "stream",
     "name": "stdout",
     "text": [
      "Training Accuracy =  90.15959467969579 %\nTest Accuracy =  88.36267098141299 %\n"
     ]
    }
   ],
   "source": [
    "print(\"Training Accuracy = \", (r1.score(xtrain, ytrain)*100), \"%\")\n",
    "print(\"Test Accuracy = \", (r1.score(xtest, ytest)*100), \"%\")"
   ]
  },
  {
   "source": [
    "### Logistic Regression"
   ],
   "cell_type": "markdown",
   "metadata": {}
  },
  {
   "cell_type": "markdown",
   "metadata": {},
   "source": [
    "### Linear Regression"
   ]
  },
  {
   "cell_type": "code",
   "execution_count": 20,
   "metadata": {},
   "outputs": [],
   "source": [
    "regressor = LinearRegression()  \n",
    "regressor.fit(X_train, y_train)"
   ]
  },
  {
   "cell_type": "code",
   "execution_count": null,
   "metadata": {},
   "outputs": [],
   "source": [
    "import matplotlib.pyplot as plt\n",
    "%matplotlib inline"
   ]
  },
  {
   "cell_type": "code",
   "execution_count": null,
   "metadata": {},
   "outputs": [],
   "source": [
    "dataset.plot(x='Humidity', y='MoisturePercentage', style='o')  \n",
    "plt.title('Humidity vs MoisturePercentage')  \n",
    "plt.xlabel('Humidity')  \n",
    "plt.ylabel('MoisturePercentage')  \n",
    "plt.show()  "
   ]
  },
  {
   "cell_type": "code",
   "execution_count": 164,
   "metadata": {},
   "outputs": [
    {
     "data": {
      "image/png": "[encoded data removed]",
      "text/plain": [
       "<Figure size 432x288 with 1 Axes>"
      ]
     },
     "metadata": {
      "needs_background": "light"
     },
     "output_type": "display_data"
    }
   ],
   "source": [
    "dataset.plot(x='Heatcelcius', y='MoisturePercentage', style='o')  \n",
    "plt.title('Heat-Air temperature  vs  MoisturePercentage')  \n",
    "plt.xlabel('Heat in Celcius')  \n",
    "plt.ylabel('MoisturePercentage')  \n",
    "plt.show()"
   ]
  },
  {
   "cell_type": "code",
   "execution_count": 165,
   "metadata": {},
   "outputs": [
    {
     "name": "stdout",
     "output_type": "stream",
     "text": [
      "0.5555905405405406\n"
     ]
    }
   ],
   "source": [
    "print(regressor.intercept_) "
   ]
  },
  {
   "cell_type": "code",
   "execution_count": 166,
   "metadata": {},
   "outputs": [
    {
     "name": "stdout",
     "output_type": "stream",
     "text": [
      "[0.04628089 0.00197808]\n"
     ]
    }
   ],
   "source": [
    "print(regressor.coef_) "
   ]
  },
  {
   "cell_type": "code",
   "execution_count": 167,
   "metadata": {},
   "outputs": [],
   "source": [
    "y_pred = regressor.predict(X_test)"
   ]
  },
  {
   "cell_type": "code",
   "execution_count": 168,
   "metadata": {},
   "outputs": [
    {
     "data": {
      "text/html": [
       "<div>\n",
       "<style scoped>\n",
       "    .dataframe tbody tr th:only-of-type {\n",
       "        vertical-align: middle;\n",
       "    }\n",
       "\n",
       "    .dataframe tbody tr th {\n",
       "        vertical-align: top;\n",
       "    }\n",
       "\n",
       "    .dataframe thead th {\n",
       "        text-align: right;\n",
       "    }\n",
       "</style>\n",
       "<table border=\"1\" class=\"dataframe\">\n",
       "  <thead>\n",
       "    <tr style=\"text-align: right;\">\n",
       "      <th></th>\n",
       "      <th>Actual</th>\n",
       "      <th>Predicted</th>\n",
       "    </tr>\n",
       "  </thead>\n",
       "  <tbody>\n",
       "    <tr>\n",
       "      <th>0</th>\n",
       "      <td>0.6999</td>\n",
       "      <td>0.506906</td>\n",
       "    </tr>\n",
       "    <tr>\n",
       "      <th>1</th>\n",
       "      <td>0.4751</td>\n",
       "      <td>0.526563</td>\n",
       "    </tr>\n",
       "    <tr>\n",
       "      <th>2</th>\n",
       "      <td>0.7400</td>\n",
       "      <td>0.632289</td>\n",
       "    </tr>\n",
       "    <tr>\n",
       "      <th>3</th>\n",
       "      <td>0.6276</td>\n",
       "      <td>0.548861</td>\n",
       "    </tr>\n",
       "    <tr>\n",
       "      <th>4</th>\n",
       "      <td>0.5210</td>\n",
       "      <td>0.531265</td>\n",
       "    </tr>\n",
       "    <tr>\n",
       "      <th>5</th>\n",
       "      <td>0.7312</td>\n",
       "      <td>0.603859</td>\n",
       "    </tr>\n",
       "    <tr>\n",
       "      <th>6</th>\n",
       "      <td>0.5777</td>\n",
       "      <td>0.647093</td>\n",
       "    </tr>\n",
       "    <tr>\n",
       "      <th>7</th>\n",
       "      <td>0.4633</td>\n",
       "      <td>0.531514</td>\n",
       "    </tr>\n",
       "    <tr>\n",
       "      <th>8</th>\n",
       "      <td>0.4604</td>\n",
       "      <td>0.504015</td>\n",
       "    </tr>\n",
       "    <tr>\n",
       "      <th>9</th>\n",
       "      <td>0.4741</td>\n",
       "      <td>0.512689</td>\n",
       "    </tr>\n",
       "    <tr>\n",
       "      <th>10</th>\n",
       "      <td>0.4907</td>\n",
       "      <td>0.516610</td>\n",
       "    </tr>\n",
       "    <tr>\n",
       "      <th>11</th>\n",
       "      <td>0.7058</td>\n",
       "      <td>0.518670</td>\n",
       "    </tr>\n",
       "    <tr>\n",
       "      <th>12</th>\n",
       "      <td>0.7361</td>\n",
       "      <td>0.640131</td>\n",
       "    </tr>\n",
       "    <tr>\n",
       "      <th>13</th>\n",
       "      <td>0.5601</td>\n",
       "      <td>0.583322</td>\n",
       "    </tr>\n",
       "    <tr>\n",
       "      <th>14</th>\n",
       "      <td>0.4673</td>\n",
       "      <td>0.506026</td>\n",
       "    </tr>\n",
       "    <tr>\n",
       "      <th>15</th>\n",
       "      <td>0.7204</td>\n",
       "      <td>0.600918</td>\n",
       "    </tr>\n",
       "    <tr>\n",
       "      <th>16</th>\n",
       "      <td>0.5445</td>\n",
       "      <td>0.531315</td>\n",
       "    </tr>\n",
       "    <tr>\n",
       "      <th>17</th>\n",
       "      <td>0.4790</td>\n",
       "      <td>0.525483</td>\n",
       "    </tr>\n",
       "    <tr>\n",
       "      <th>18</th>\n",
       "      <td>0.5601</td>\n",
       "      <td>0.654886</td>\n",
       "    </tr>\n",
       "  </tbody>\n",
       "</table>\n",
       "</div>"
      ],
      "text/plain": [
       "    Actual  Predicted\n",
       "0   0.6999   0.506906\n",
       "1   0.4751   0.526563\n",
       "2   0.7400   0.632289\n",
       "3   0.6276   0.548861\n",
       "4   0.5210   0.531265\n",
       "5   0.7312   0.603859\n",
       "6   0.5777   0.647093\n",
       "7   0.4633   0.531514\n",
       "8   0.4604   0.504015\n",
       "9   0.4741   0.512689\n",
       "10  0.4907   0.516610\n",
       "11  0.7058   0.518670\n",
       "12  0.7361   0.640131\n",
       "13  0.5601   0.583322\n",
       "14  0.4673   0.506026\n",
       "15  0.7204   0.600918\n",
       "16  0.5445   0.531315\n",
       "17  0.4790   0.525483\n",
       "18  0.5601   0.654886"
      ]
     },
     "execution_count": 168,
     "metadata": {},
     "output_type": "execute_result"
    }
   ],
   "source": [
    "df = pd.DataFrame({'Actual': y_test, 'Predicted': y_pred})  \n",
    "df"
   ]
  },
  {
   "cell_type": "code",
   "execution_count": 169,
   "metadata": {},
   "outputs": [
    {
     "name": "stdout",
     "output_type": "stream",
     "text": [
      "Training Accuracy =  0.22373924747047869\n",
      "Test Accuracy =  0.24648312674488848\n"
     ]
    }
   ],
   "source": [
    "print(\"Training Accuracy = \", regressor.score(X_train, y_train))\n",
    "print(\"Test Accuracy = \", regressor.score(X_test, y_test))"
   ]
  }
 ],
 "metadata": {
  "kernelspec": {
   "name": "python383jvsc74a57bd05a2c2b1e8e21bd441da1d17902ec1befce5a77884cfd8dc3337a42ec4181cc68",
   "display_name": "Python 3.8.3 64-bit ('base': conda)"
  },
  "language_info": {
   "codemirror_mode": {
    "name": "ipython",
    "version": 3
   },
   "file_extension": ".py",
   "mimetype": "text/x-python",
   "name": "python",
   "nbconvert_exporter": "python",
   "pygments_lexer": "ipython3",
   "version": "3.8.3"
  },
  "metadata": {
   "interpreter": {
    "hash": "5a2c2b1e8e21bd441da1d17902ec1befce5a77884cfd8dc3337a42ec4181cc68"
   }
  }
 },
 "nbformat": 4,
 "nbformat_minor": 2
}